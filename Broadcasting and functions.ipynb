{
 "cells": [
  {
   "cell_type": "code",
   "execution_count": 1,
   "id": "1cd1a067-2040-4770-ac13-5b3afea74901",
   "metadata": {},
   "outputs": [],
   "source": [
    "import numpy as np\n"
   ]
  },
  {
   "cell_type": "code",
   "execution_count": 9,
   "id": "156ebb2c-af56-4eea-bacf-fd6cc8e39892",
   "metadata": {},
   "outputs": [
    {
     "name": "stdout",
     "output_type": "stream",
     "text": [
      "[[0 1 2 3]\n",
      " [4 5 6 7]]\n",
      "[[ 8  9 10 11]\n",
      " [12 13 14 15]]\n"
     ]
    }
   ],
   "source": [
    "#scenario --->1\n",
    "#both the matrices has same shape 2*4\n",
    "\n",
    "a1=np.arange(8).reshape(2,4)\n",
    "a2=np.arange(8,16).reshape(2,4)\n",
    "\n",
    "print(a1)\n",
    "print(a2)"
   ]
  },
  {
   "cell_type": "code",
   "execution_count": 7,
   "id": "3fca4669-c919-486a-ba2e-7fbd8afb94b5",
   "metadata": {},
   "outputs": [
    {
     "data": {
      "text/plain": [
       "array([[ 8, 10, 12, 14],\n",
       "       [16, 18, 20, 22]])"
      ]
     },
     "execution_count": 7,
     "metadata": {},
     "output_type": "execute_result"
    }
   ],
   "source": [
    "a1+a2"
   ]
  },
  {
   "cell_type": "code",
   "execution_count": 13,
   "id": "8f81f0b9-e59b-4e20-aaa8-b72b9d594d78",
   "metadata": {},
   "outputs": [
    {
     "name": "stdout",
     "output_type": "stream",
     "text": [
      "[[0 1 2]\n",
      " [3 4 5]\n",
      " [6 7 8]] [[0 1 2]]\n"
     ]
    }
   ],
   "source": [
    "#scenario ------>2\n",
    "\n",
    "a3=np.arange(9).reshape(3,3)\n",
    "a4=np.arange(3).reshape(1,3)\n",
    "print(a3,a4)"
   ]
  },
  {
   "cell_type": "code",
   "execution_count": 15,
   "id": "23fcbf86-6a7c-4fec-a67c-6a2dcf76478f",
   "metadata": {},
   "outputs": [
    {
     "data": {
      "text/plain": [
       "array([[ 0,  2,  4],\n",
       "       [ 3,  5,  7],\n",
       "       [ 6,  8, 10]])"
      ]
     },
     "execution_count": 15,
     "metadata": {},
     "output_type": "execute_result"
    }
   ],
   "source": [
    "a3+a4"
   ]
  },
  {
   "cell_type": "markdown",
   "id": "6f134396-d184-4c61-ba68-561df8642acd",
   "metadata": {},
   "source": [
    "# BROADCASTING\n",
    "In NumPy, broadcasting refers to a mechanism that allows arrays of different shapes to be used together in arithmetic operations. The basic idea is to extend smaller arrays so that they have compatible shapes for arithmetic operations with larger arrays."
   ]
  },
  {
   "cell_type": "markdown",
   "id": "40d35136-0217-4969-8edc-d71ff0cf160f",
   "metadata": {},
   "source": [
    "# SOME IMPORTANT FUNCTION---->\n"
   ]
  },
  {
   "cell_type": "code",
   "execution_count": 21,
   "id": "efe8d937-75b1-4b9e-9d9b-b18951844db6",
   "metadata": {},
   "outputs": [
    {
     "data": {
      "text/plain": [
       "0.4973293426613614"
      ]
     },
     "execution_count": 21,
     "metadata": {},
     "output_type": "execute_result"
    }
   ],
   "source": [
    "np.random.random()"
   ]
  },
  {
   "cell_type": "code",
   "execution_count": 31,
   "id": "4c0c2477-59c8-40d0-a1e2-c844642df9c2",
   "metadata": {},
   "outputs": [
    {
     "data": {
      "text/plain": [
       "0.417022004702574"
      ]
     },
     "execution_count": 31,
     "metadata": {},
     "output_type": "execute_result"
    }
   ],
   "source": [
    "#to get same value every time-------->\n",
    "np.random.seed(1)\n",
    "np.random.random()\n"
   ]
  },
  {
   "cell_type": "code",
   "execution_count": 37,
   "id": "9d9e7299-f817-488c-a061-20f59d1898d6",
   "metadata": {},
   "outputs": [
    {
     "data": {
      "text/plain": [
       "5.116328008422879"
      ]
     },
     "execution_count": 37,
     "metadata": {},
     "output_type": "execute_result"
    }
   ],
   "source": [
    "#random value within a given range --->\n",
    "np.random.uniform(3,10)"
   ]
  },
  {
   "cell_type": "code",
   "execution_count": 39,
   "id": "6513a5f3-37e1-4ccd-ba6b-a49b99b77221",
   "metadata": {},
   "outputs": [
    {
     "data": {
      "text/plain": [
       "array([15.52883319, 10.14152088, 19.43976093, 35.21051198, 40.27997995,\n",
       "       54.34285667, 42.50025693, 68.83673054, 21.24077272, 87.9336262 ])"
      ]
     },
     "execution_count": 39,
     "metadata": {},
     "output_type": "execute_result"
    }
   ],
   "source": [
    "np.random.uniform(1,100,10)"
   ]
  },
  {
   "cell_type": "code",
   "execution_count": 45,
   "id": "32374f26-4b06-4466-bda2-dd3591099531",
   "metadata": {},
   "outputs": [
    {
     "data": {
      "text/plain": [
       "array([[69.49583428, 32.23604747, 68.96359184, 83.62794152,  2.81053946],\n",
       "       [75.26428718, 98.8972478 , 75.06839978, 28.76395521, 79.13865352]])"
      ]
     },
     "execution_count": 45,
     "metadata": {},
     "output_type": "execute_result"
    }
   ],
   "source": [
    "np.random.uniform(1,100,10).reshape(2,5)"
   ]
  },
  {
   "cell_type": "code",
   "execution_count": 55,
   "id": "d4f318ab-89d5-4ef9-ad3a-4f853a6f726e",
   "metadata": {},
   "outputs": [
    {
     "data": {
      "text/plain": [
       "array([3, 8, 8, 8, 4])"
      ]
     },
     "execution_count": 55,
     "metadata": {},
     "output_type": "execute_result"
    }
   ],
   "source": [
    "#### to generate integer values---->\n",
    "np.random.randint(1,10,5)"
   ]
  },
  {
   "cell_type": "code",
   "execution_count": 57,
   "id": "2dd727cb-4dcb-4892-a1e3-d4125d31e80f",
   "metadata": {},
   "outputs": [
    {
     "data": {
      "text/plain": [
       "array([[1, 9, 8, 8, 2],\n",
       "       [2, 4, 1, 9, 7],\n",
       "       [5, 6, 7, 3, 6]])"
      ]
     },
     "execution_count": 57,
     "metadata": {},
     "output_type": "execute_result"
    }
   ],
   "source": [
    "np.random.randint(1,10,15).reshape(3,5)"
   ]
  },
  {
   "cell_type": "code",
   "execution_count": 77,
   "id": "6a7ef148-6f4e-4a02-b989-6fa5e4b576d3",
   "metadata": {},
   "outputs": [
    {
     "data": {
      "text/plain": [
       "array([8, 9, 5, 1, 2, 9])"
      ]
     },
     "execution_count": 77,
     "metadata": {},
     "output_type": "execute_result"
    }
   ],
   "source": [
    "a=np.random.randint(1,10,6)\n",
    "a"
   ]
  },
  {
   "cell_type": "code",
   "execution_count": 79,
   "id": "5955302a-2c5d-4db0-87c7-4912b8d2beb7",
   "metadata": {},
   "outputs": [
    {
     "data": {
      "text/plain": [
       "9"
      ]
     },
     "execution_count": 79,
     "metadata": {},
     "output_type": "execute_result"
    }
   ],
   "source": [
    "np.max(a)"
   ]
  },
  {
   "cell_type": "code",
   "execution_count": 83,
   "id": "3a518b68-57a0-4e33-a40d-6d7158920b7a",
   "metadata": {},
   "outputs": [
    {
     "data": {
      "text/plain": [
       "1"
      ]
     },
     "execution_count": 83,
     "metadata": {},
     "output_type": "execute_result"
    }
   ],
   "source": [
    "np.min(a)"
   ]
  },
  {
   "cell_type": "code",
   "execution_count": 85,
   "id": "599109ab-4355-42e0-939d-1d2f9fb88a3b",
   "metadata": {},
   "outputs": [
    {
     "data": {
      "text/plain": [
       "1"
      ]
     },
     "execution_count": 85,
     "metadata": {},
     "output_type": "execute_result"
    }
   ],
   "source": [
    "#index of maximum number---->\n",
    "np.argmax(a)"
   ]
  },
  {
   "cell_type": "code",
   "execution_count": 87,
   "id": "0918cb57-95ee-4bae-b055-1a218081ed00",
   "metadata": {},
   "outputs": [
    {
     "data": {
      "text/plain": [
       "9"
      ]
     },
     "execution_count": 87,
     "metadata": {},
     "output_type": "execute_result"
    }
   ],
   "source": [
    "a[np.argmax(a)]"
   ]
  },
  {
   "cell_type": "code",
   "execution_count": 89,
   "id": "4415f868-0943-4a37-80f6-89396c867c17",
   "metadata": {},
   "outputs": [
    {
     "data": {
      "text/plain": [
       "3"
      ]
     },
     "execution_count": 89,
     "metadata": {},
     "output_type": "execute_result"
    }
   ],
   "source": [
    "##### index of minimum value----->\n",
    "np.argmin(a)"
   ]
  },
  {
   "cell_type": "code",
   "execution_count": 91,
   "id": "8b77134f-2921-4dd1-81b5-1050310c5298",
   "metadata": {},
   "outputs": [
    {
     "data": {
      "text/plain": [
       "1"
      ]
     },
     "execution_count": 91,
     "metadata": {},
     "output_type": "execute_result"
    }
   ],
   "source": [
    "#to check the min value----->\n",
    "a[np.argmin(a)]"
   ]
  },
  {
   "cell_type": "code",
   "execution_count": 93,
   "id": "e1332239-a765-422f-8a81-051f8b90a6c1",
   "metadata": {},
   "outputs": [
    {
     "data": {
      "text/plain": [
       "array([3, 4, 2, 3, 8, 3])"
      ]
     },
     "execution_count": 93,
     "metadata": {},
     "output_type": "execute_result"
    }
   ],
   "source": [
    "a=np.random.randint(1,10,6)\n",
    "a"
   ]
  },
  {
   "cell_type": "code",
   "execution_count": 95,
   "id": "76073e63-a0e9-486a-bb34-cf05d3182258",
   "metadata": {},
   "outputs": [
    {
     "data": {
      "text/plain": [
       "array([-1,  4,  2, -1,  8, -1])"
      ]
     },
     "execution_count": 95,
     "metadata": {},
     "output_type": "execute_result"
    }
   ],
   "source": [
    "a[a%2==1]=-1\n",
    "a"
   ]
  },
  {
   "cell_type": "code",
   "execution_count": 101,
   "id": "e2aa366f-9fb0-4af1-aa92-d8ef9a2a2904",
   "metadata": {},
   "outputs": [
    {
     "data": {
      "text/plain": [
       "array([11, 17,  6, 14, 18, 19])"
      ]
     },
     "execution_count": 101,
     "metadata": {},
     "output_type": "execute_result"
    }
   ],
   "source": [
    "a=np.random.randint(1,20,6)\n",
    "a"
   ]
  },
  {
   "cell_type": "markdown",
   "id": "edca52d9-b9d2-45b6-aabb-bdabe6ac8bf2",
   "metadata": {},
   "source": [
    "# using where (condition,if condition is TRUE what would be its value, if condition is false what would be its value)"
   ]
  },
  {
   "cell_type": "code",
   "execution_count": 104,
   "id": "730c572e-e241-477b-b275-04af806a9e75",
   "metadata": {},
   "outputs": [
    {
     "data": {
      "text/plain": [
       "array([-1, -1,  6, 14, 18, -1])"
      ]
     },
     "execution_count": 104,
     "metadata": {},
     "output_type": "execute_result"
    }
   ],
   "source": [
    "np.where(a%2==1,-1,a)"
   ]
  },
  {
   "cell_type": "code",
   "execution_count": 106,
   "id": "9308c8a5-91f2-49e3-be64-2dfe7f9416b6",
   "metadata": {},
   "outputs": [
    {
     "data": {
      "text/plain": [
       "array([11, 17,  6, 14, 18, 19])"
      ]
     },
     "execution_count": 106,
     "metadata": {},
     "output_type": "execute_result"
    }
   ],
   "source": [
    "a"
   ]
  },
  {
   "cell_type": "code",
   "execution_count": 108,
   "id": "5776290d-9730-4194-80b8-a639ff0a4abd",
   "metadata": {},
   "outputs": [],
   "source": [
    "#the original array remains the same ^^^^^^^^^"
   ]
  },
  {
   "cell_type": "code",
   "execution_count": 112,
   "id": "5f630b3e-c6bb-49b0-ad2b-e4adb017eb67",
   "metadata": {},
   "outputs": [
    {
     "data": {
      "text/plain": [
       "array([15, 14, 12,  7, 14, 16])"
      ]
     },
     "execution_count": 112,
     "metadata": {},
     "output_type": "execute_result"
    }
   ],
   "source": [
    "a=np.random.randint(1,20,6)\n",
    "a"
   ]
  },
  {
   "cell_type": "code",
   "execution_count": 116,
   "id": "35b8ca3b-cde7-431e-95a4-f49d3bf9fad1",
   "metadata": {},
   "outputs": [
    {
     "data": {
      "text/plain": [
       "array([28, 48, 14, 41, 15, 46, 24, 17, 29, 43])"
      ]
     },
     "execution_count": 116,
     "metadata": {},
     "output_type": "execute_result"
    }
   ],
   "source": [
    "# percentile function---->\n",
    "a=np.random.randint(1,50,10)\n",
    "a\n"
   ]
  },
  {
   "cell_type": "raw",
   "id": "a5a9d42c-2f77-4c28-918e-503e9a5676fb",
   "metadata": {},
   "source": []
  },
  {
   "cell_type": "code",
   "execution_count": 120,
   "id": "f5ad0ed8-2d31-4f9f-954e-5829a6e9b7d2",
   "metadata": {},
   "outputs": [],
   "source": [
    "a=np.sort(a)"
   ]
  },
  {
   "cell_type": "code",
   "execution_count": 122,
   "id": "29fce63e-32dc-45cc-b4f7-c4f09d1a71b9",
   "metadata": {},
   "outputs": [
    {
     "data": {
      "text/plain": [
       "array([14, 15, 17, 24, 28, 29, 41, 43, 46, 48])"
      ]
     },
     "execution_count": 122,
     "metadata": {},
     "output_type": "execute_result"
    }
   ],
   "source": [
    "a"
   ]
  },
  {
   "cell_type": "code",
   "execution_count": null,
   "id": "055cbeae-0d5e-4591-aff3-e31cb7cd81f8",
   "metadata": {},
   "outputs": [],
   "source": [
    "np.percentile(a,50"
   ]
  }
 ],
 "metadata": {
  "kernelspec": {
   "display_name": "Python 3 (ipykernel)",
   "language": "python",
   "name": "python3"
  },
  "language_info": {
   "codemirror_mode": {
    "name": "ipython",
    "version": 3
   },
   "file_extension": ".py",
   "mimetype": "text/x-python",
   "name": "python",
   "nbconvert_exporter": "python",
   "pygments_lexer": "ipython3",
   "version": "3.11.7"
  }
 },
 "nbformat": 4,
 "nbformat_minor": 5
}
