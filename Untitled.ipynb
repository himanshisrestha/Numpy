{
 "cells": [
  {
   "cell_type": "code",
   "execution_count": 1,
   "id": "db5ea849-1c9c-4033-8548-dac3e27f4698",
   "metadata": {},
   "outputs": [
    {
     "name": "stdout",
     "output_type": "stream",
     "text": [
      "hello himanshi\n"
     ]
    }
   ],
   "source": [
    "print(\"hello himanshi\")\n"
   ]
  },
  {
   "cell_type": "code",
   "execution_count": 3,
   "id": "69e60fa8-6043-47c7-bfc3-3cbb1afff335",
   "metadata": {},
   "outputs": [],
   "source": [
    "import numpy as np"
   ]
  },
  {
   "cell_type": "code",
   "execution_count": 5,
   "id": "da162e01-4d2e-4ce3-bbde-0b97405adb98",
   "metadata": {},
   "outputs": [],
   "source": [
    "arr1=np.array([1,2,3,4,5])"
   ]
  },
  {
   "cell_type": "code",
   "execution_count": 7,
   "id": "3b15f74a-44b4-4ffa-abfc-87e642a7457c",
   "metadata": {},
   "outputs": [
    {
     "data": {
      "text/plain": [
       "array([1, 2, 3, 4, 5])"
      ]
     },
     "execution_count": 7,
     "metadata": {},
     "output_type": "execute_result"
    }
   ],
   "source": [
    "arr1"
   ]
  },
  {
   "cell_type": "code",
   "execution_count": 11,
   "id": "1ef8b0c6-ea98-41cc-9c04-aeff12f65c49",
   "metadata": {},
   "outputs": [
    {
     "data": {
      "text/plain": [
       "numpy.ndarray"
      ]
     },
     "execution_count": 11,
     "metadata": {},
     "output_type": "execute_result"
    }
   ],
   "source": [
    "#to find the type\n",
    "type(arr1)\n"
   ]
  },
  {
   "cell_type": "code",
   "execution_count": 13,
   "id": "1c33cca9-0722-4985-b4fa-eee56a31c85d",
   "metadata": {},
   "outputs": [],
   "source": [
    "arr2=np.array([[1,2,3],[4,5,6]])"
   ]
  },
  {
   "cell_type": "code",
   "execution_count": 15,
   "id": "10096f69-2aac-41a0-9854-b08d742d650e",
   "metadata": {},
   "outputs": [
    {
     "data": {
      "text/plain": [
       "array([[1, 2, 3],\n",
       "       [4, 5, 6]])"
      ]
     },
     "execution_count": 15,
     "metadata": {},
     "output_type": "execute_result"
    }
   ],
   "source": [
    "arr2"
   ]
  },
  {
   "cell_type": "code",
   "execution_count": 17,
   "id": "9ac07191-b5b3-4249-a474-86032572c9fd",
   "metadata": {},
   "outputs": [],
   "source": [
    "arr3=np.zeros((2,3))"
   ]
  },
  {
   "cell_type": "code",
   "execution_count": 19,
   "id": "89325588-02f2-4c39-9d93-2b47b4a8774f",
   "metadata": {},
   "outputs": [
    {
     "data": {
      "text/plain": [
       "array([[0., 0., 0.],\n",
       "       [0., 0., 0.]])"
      ]
     },
     "execution_count": 19,
     "metadata": {},
     "output_type": "execute_result"
    }
   ],
   "source": [
    "arr3\n"
   ]
  },
  {
   "cell_type": "code",
   "execution_count": 21,
   "id": "a176f8f9-daad-4e9b-9a40-6017154db1c4",
   "metadata": {},
   "outputs": [],
   "source": [
    "arr5=np.identity(5)\n"
   ]
  },
  {
   "cell_type": "code",
   "execution_count": 23,
   "id": "f052124d-421f-4544-bae5-f75b8cbd56d8",
   "metadata": {},
   "outputs": [
    {
     "data": {
      "text/plain": [
       "array([[1., 0., 0., 0., 0.],\n",
       "       [0., 1., 0., 0., 0.],\n",
       "       [0., 0., 1., 0., 0.],\n",
       "       [0., 0., 0., 1., 0.],\n",
       "       [0., 0., 0., 0., 1.]])"
      ]
     },
     "execution_count": 23,
     "metadata": {},
     "output_type": "execute_result"
    }
   ],
   "source": [
    "arr5\n"
   ]
  },
  {
   "cell_type": "code",
   "execution_count": 25,
   "id": "00cf786a-a111-41da-bd17-87b173c71da2",
   "metadata": {},
   "outputs": [
    {
     "data": {
      "text/plain": [
       "array([0, 1, 2, 3, 4, 5, 6, 7, 8, 9])"
      ]
     },
     "execution_count": 25,
     "metadata": {},
     "output_type": "execute_result"
    }
   ],
   "source": [
    "arr6=np.arange(10)\n",
    "arr6"
   ]
  },
  {
   "cell_type": "code",
   "execution_count": 27,
   "id": "c4886933-0e78-4c69-91bb-fa61845f26ed",
   "metadata": {},
   "outputs": [
    {
     "data": {
      "text/plain": [
       "array([ 5,  6,  7,  8,  9, 10, 11, 12, 13, 14, 15])"
      ]
     },
     "execution_count": 27,
     "metadata": {},
     "output_type": "execute_result"
    }
   ],
   "source": [
    "arr7=np.arange(5,16)\n",
    "arr7"
   ]
  },
  {
   "cell_type": "code",
   "execution_count": 29,
   "id": "4c58ef61-73a5-4ee3-8869-996ea5c91d21",
   "metadata": {},
   "outputs": [
    {
     "data": {
      "text/plain": [
       "array([10.        , 11.11111111, 12.22222222, 13.33333333, 14.44444444,\n",
       "       15.55555556, 16.66666667, 17.77777778, 18.88888889, 20.        ])"
      ]
     },
     "execution_count": 29,
     "metadata": {},
     "output_type": "execute_result"
    }
   ],
   "source": [
    "#linspace basically makes equidistance elements\n",
    "\n",
    "arr8=np.linspace(10,20,10)\n",
    "arr8\n"
   ]
  },
  {
   "cell_type": "code",
   "execution_count": 33,
   "id": "1fb471bb-3c99-44f5-b023-04610b192c24",
   "metadata": {},
   "outputs": [],
   "source": [
    "arr9=arr8.copy()"
   ]
  },
  {
   "cell_type": "code",
   "execution_count": 35,
   "id": "d505f257-b2b1-4d70-ad8a-0c8e5c7a898e",
   "metadata": {},
   "outputs": [
    {
     "data": {
      "text/plain": [
       "array([10.        , 11.11111111, 12.22222222, 13.33333333, 14.44444444,\n",
       "       15.55555556, 16.66666667, 17.77777778, 18.88888889, 20.        ])"
      ]
     },
     "execution_count": 35,
     "metadata": {},
     "output_type": "execute_result"
    }
   ],
   "source": [
    "arr9\n"
   ]
  },
  {
   "cell_type": "code",
   "execution_count": null,
   "id": "ddcecdac-0b21-4434-be91-81f5f965483b",
   "metadata": {},
   "outputs": [],
   "source": []
  }
 ],
 "metadata": {
  "kernelspec": {
   "display_name": "Python 3 (ipykernel)",
   "language": "python",
   "name": "python3"
  },
  "language_info": {
   "codemirror_mode": {
    "name": "ipython",
    "version": 3
   },
   "file_extension": ".py",
   "mimetype": "text/x-python",
   "name": "python",
   "nbconvert_exporter": "python",
   "pygments_lexer": "ipython3",
   "version": "3.11.7"
  }
 },
 "nbformat": 4,
 "nbformat_minor": 5
}
